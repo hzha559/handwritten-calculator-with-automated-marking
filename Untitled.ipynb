{
 "cells": [
  {
   "cell_type": "code",
   "execution_count": null,
   "metadata": {},
   "outputs": [],
   "source": [
    "import numpy\n",
    "def calculator(string):\n",
    "    list=[]\n",
    "    if '=' not in string:\n",
    "        return eval(string)\n",
    "    else:\n",
    "        position=string.index('=')\n",
    "        if numpy.round(eval(string[0:position]),decimals=1)==(eval(string[position+1:])) :\n",
    "            list.append(eval(string[0:position]))\n",
    "            list.append(True)\n",
    "            return list\n",
    "        else:\n",
    "            list.append(eval(string[0:position]))\n",
    "            list.append(False)\n",
    "            return list\n",
    "    "
   ]
  },
  {
   "cell_type": "code",
   "execution_count": null,
   "metadata": {},
   "outputs": [
    {
     "name": "stderr",
     "output_type": "stream",
     "text": [
      "[INFO   ] [Logger      ] Record log in C:\\Users\\zhaoh\\.kivy\\logs\\kivy_20-04-05_12.txt\n",
      "[INFO   ] [Kivy        ] v1.11.1\n",
      "[INFO   ] [Kivy        ] Installed at \"C:\\Users\\zhaoh\\Anaconda3\\lib\\site-packages\\kivy\\__init__.py\"\n",
      "[INFO   ] [Python      ] v3.7.3 (default, Mar 27 2019, 17:13:21) [MSC v.1915 64 bit (AMD64)]\n",
      "[INFO   ] [Python      ] Interpreter at \"C:\\Users\\zhaoh\\Anaconda3\\python.exe\"\n",
      "[INFO   ] [Factory     ] 184 symbols loaded\n",
      "[INFO   ] [Image       ] Providers: img_tex, img_dds, img_sdl2, img_pil, img_gif (img_ffpyplayer ignored)\n",
      "[INFO   ] [Text        ] Provider: sdl2\n",
      "[INFO   ] [Window      ] Provider: sdl2\n",
      "[INFO   ] [GL          ] Using the \"OpenGL\" graphics system\n",
      "[INFO   ] [GL          ] GLEW initialization succeeded\n",
      "[INFO   ] [GL          ] Backend used <glew>\n",
      "[INFO   ] [GL          ] OpenGL version <b'4.6.0 - Build 26.20.100.7323'>\n",
      "[INFO   ] [GL          ] OpenGL vendor <b'Intel'>\n",
      "[INFO   ] [GL          ] OpenGL renderer <b'Intel(R) UHD Graphics 630'>\n",
      "[INFO   ] [GL          ] OpenGL parsed version: 4, 6\n",
      "[INFO   ] [GL          ] Shading version <b'4.60 - Build 26.20.100.7323'>\n",
      "[INFO   ] [GL          ] Texture max size <16384>\n",
      "[INFO   ] [GL          ] Texture max units <32>\n",
      "[INFO   ] [Window      ] auto add sdl2 input provider\n",
      "[INFO   ] [Window      ] virtual keyboard not allowed, single mode, not docked\n"
     ]
    },
    {
     "name": "stdout",
     "output_type": "stream",
     "text": [
      "initialize services\n",
      "model is ready\n"
     ]
    },
    {
     "name": "stderr",
     "output_type": "stream",
     "text": [
      "[INFO   ] [GL          ] NPOT texture support is available\n",
      "[INFO   ] [GL          ] BGRA texture support is available\n",
      "[INFO   ] [Base        ] Start application main loop\n"
     ]
    },
    {
     "name": "stdout",
     "output_type": "stream",
     "text": [
      "(576, 1021, 3)\n",
      "cuda\n",
      "service already deployed\n",
      "C:/Users/zhaoh/Downloads/FYP/UI/master/sliced one//1.jpg\n",
      "C:/Users/zhaoh/Downloads/FYP/UI/master/sliced one//2.jpg\n",
      "C:/Users/zhaoh/Downloads/FYP/UI/master/sliced one//3.jpg\n",
      "3\n",
      "prediction tensor([1, 5, 1], device='cuda:0')\n",
      "1\n",
      "5\n",
      "1\n",
      "recognized 151\n"
     ]
    }
   ],
   "source": [
    "import FungalAnnotator.py"
   ]
  },
  {
   "cell_type": "code",
   "execution_count": null,
   "metadata": {},
   "outputs": [],
   "source": [
    "max(0, (2, 3)[1])"
   ]
  },
  {
   "cell_type": "code",
   "execution_count": null,
   "metadata": {},
   "outputs": [],
   "source": [
    "type(1/3)"
   ]
  },
  {
   "cell_type": "code",
   "execution_count": null,
   "metadata": {},
   "outputs": [],
   "source": [
    "try:\n",
    "    eval('3/1')\n",
    "except:\n",
    "    print('no')"
   ]
  },
  {
   "cell_type": "code",
   "execution_count": null,
   "metadata": {},
   "outputs": [],
   "source": [
    "'''\n",
    "            if string[0] in ['+','*','/','=','.']:\n",
    "                calculate=False\n",
    "                #print(1)\n",
    "            else:\n",
    "                for a in range(len(string)):\n",
    "                    if a>0 and (string[a] in ['+','-','*','/','=','.'] and string[a-1] in ['+','-','*','/','=','.']):\n",
    "                        calculate=False\n",
    "                        break\n",
    "                        #print(2)\n",
    "                    elif a>0 and (string[a]in [0,'0'] and string[a-1]=='/'):\n",
    "                        calculate=False\n",
    "                        break\n",
    "                        #print(2)\n",
    "                    elif string[a] not in ['+','-','*','/','=','.'] and string[a].isdigit()==False:\n",
    "                        calculate=False\n",
    "                        #print(3)\n",
    "                        break\n",
    "                    else:#have to consider more than 1 = and 3.1.1\n",
    "                        calculate=True\n",
    "             '''\n",
    "\n",
    "'''\n",
    "                if eval(string[position+1:])>0:\n",
    "                    if eval(string[position+1:])<(eval(string[0:position]))*1.1 and eval(string[position+1:])>(eval(string[0:position]))*0.9:\n",
    "                        list.append(eval(string[0:position]))\n",
    "                        list.append(True)\n",
    "                        print(list)\n",
    "                        #return list\n",
    "                    else:\n",
    "                        list.append(eval(string[0:position]))\n",
    "                        list.append(False)\n",
    "                        print(list)\n",
    "                else:\n",
    "                    if eval(string[position+1:])>(eval(string[0:position]))*1.1 and eval(string[position+1:])<(eval(string[0:position]))*0.9:\n",
    "                        list.append(eval(string[0:position]))\n",
    "                        list.append(True)\n",
    "                        print(list)\n",
    "                        #return list\n",
    "                    else:\n",
    "                        list.append(eval(string[0:position]))\n",
    "                        list.append(False)\n",
    "                        print(list)\n",
    "                        #return list\n",
    "                '''"
   ]
  }
 ],
 "metadata": {
  "kernelspec": {
   "display_name": "Python 3",
   "language": "python",
   "name": "python3"
  },
  "language_info": {
   "codemirror_mode": {
    "name": "ipython",
    "version": 3
   },
   "file_extension": ".py",
   "mimetype": "text/x-python",
   "name": "python",
   "nbconvert_exporter": "python",
   "pygments_lexer": "ipython3",
   "version": "3.7.3"
  }
 },
 "nbformat": 4,
 "nbformat_minor": 2
}
