{
<<<<<<< Updated upstream
 "cells": [],
 "metadata": {},
=======
 "cells": [
  {
   "cell_type": "code",
   "execution_count": null,
   "metadata": {},
   "outputs": [
    {
     "name": "stderr",
     "output_type": "stream",
     "text": [
      "[INFO   ] [Logger      ] Record log in C:\\Users\\zhaoh\\.kivy\\logs\\kivy_20-05-06_9.txt\n",
      "[INFO   ] [Kivy        ] v1.11.1\n",
      "[INFO   ] [Kivy        ] Installed at \"C:\\ProgramData\\Anaconda3\\lib\\site-packages\\kivy\\__init__.py\"\n",
      "[INFO   ] [Python      ] v3.7.6 (default, Jan  8 2020, 20:23:39) [MSC v.1916 64 bit (AMD64)]\n",
      "[INFO   ] [Python      ] Interpreter at \"C:\\ProgramData\\Anaconda3\\python.exe\"\n",
      "[INFO   ] [Factory     ] 184 symbols loaded\n",
      "[INFO   ] [Image       ] Providers: img_tex, img_dds, img_sdl2, img_pil, img_gif (img_ffpyplayer ignored)\n",
      "[INFO   ] [Text        ] Provider: sdl2\n",
      "[INFO   ] [Window      ] Provider: sdl2\n",
      "[INFO   ] [GL          ] Using the \"OpenGL\" graphics system\n",
      "[INFO   ] [GL          ] GLEW initialization succeeded\n",
      "[INFO   ] [GL          ] Backend used <glew>\n",
      "[INFO   ] [GL          ] OpenGL version <b'4.3.0 - Build 20.19.15.4568'>\n",
      "[INFO   ] [GL          ] OpenGL vendor <b'Intel'>\n",
      "[INFO   ] [GL          ] OpenGL renderer <b'Intel(R) HD Graphics 5000'>\n",
      "[INFO   ] [GL          ] OpenGL parsed version: 4, 3\n",
      "[INFO   ] [GL          ] Shading version <b'4.30 - Build 20.19.15.4568'>\n",
      "[INFO   ] [GL          ] Texture max size <16384>\n",
      "[INFO   ] [GL          ] Texture max units <32>\n",
      "[INFO   ] [Window      ] auto add sdl2 input provider\n",
      "[INFO   ] [Window      ] virtual keyboard not allowed, single mode, not docked\n"
     ]
    },
    {
     "name": "stdout",
     "output_type": "stream",
     "text": [
      "initializing services\n"
     ]
    },
    {
     "name": "stderr",
     "output_type": "stream",
     "text": [
      "[INFO   ] [GL          ] NPOT texture support is available\n",
      "[INFO   ] [GL          ] BGRA texture support is available\n",
      "[INFO   ] [Base        ] Start application main loop\n"
     ]
    },
    {
     "name": "stdout",
     "output_type": "stream",
     "text": [
      "model is ready\n",
      "loading images\n",
      "loading images\n",
      "recognized 1+1=2\n",
      "loading images\n",
      "loading images\n",
      "recognized 1+7=3\n",
      "loading images\n",
      "loading images\n",
      "recognized 1+2=3\n",
      "loading images\n",
      "loading images\n",
      "recognized 1234567890\n",
      "loading images\n",
      "loading images\n",
      "recognized 1234567890+\n",
      "loading images\n",
      "loading images\n",
      "recognized 1234567890+-*/=.\n",
      "loading images\n",
      "loading images\n",
      "recognized 1234567890+-*/=.32146.57\n",
      "loading images\n",
      "loading images\n",
      "recognized 1234567890+0.32146-23.618\n",
      "loading images\n",
      "loading images\n",
      "recognized \n"
     ]
    }
   ],
   "source": [
    "import theGUI.py"
   ]
  },
  {
   "cell_type": "code",
   "execution_count": null,
   "metadata": {},
   "outputs": [],
   "source": [
    "import numpy as np\n",
    "import fs\n",
    "import torchvision\n",
    "import cv2\n",
    "from torchvision import transforms\n",
    "import torch\n",
    "from torch.utils.data import Dataset, DataLoader\n",
    "import torch.nn as nn\n",
    "cuda = torch.cuda.is_available()\n",
    "device = torch.device(\"cuda\" if cuda else \"cpu\")\n",
    "\n",
    "from torch.hub import load_state_dict_from_url \n",
    "transforms = transforms.Compose([\n",
    "            #ratio_crop(1.0),\n",
    "            transforms.ToPILImage(),\n",
    "            transforms.Resize((56,56), interpolation=2),\n",
    "            transforms.ToTensor(),\n",
    "        ])\n"
   ]
  },
  {
   "cell_type": "code",
   "execution_count": null,
   "metadata": {},
   "outputs": [],
   "source": [
    "a=cv2.imread('sliced one/1.jpg')\n"
   ]
  },
  {
   "cell_type": "code",
   "execution_count": null,
   "metadata": {},
   "outputs": [],
   "source": [
    "import numpy as np\n",
    "np.zeros(np.zeros(1))"
   ]
  },
  {
   "cell_type": "code",
   "execution_count": null,
   "metadata": {},
   "outputs": [],
   "source": [
    "100//33"
   ]
  },
  {
   "cell_type": "code",
   "execution_count": null,
   "metadata": {},
   "outputs": [],
   "source": []
  }
 ],
 "metadata": {
  "kernelspec": {
   "display_name": "Python 3",
   "language": "python",
   "name": "python3"
  },
  "language_info": {
   "codemirror_mode": {
    "name": "ipython",
    "version": 3
   },
   "file_extension": ".py",
   "mimetype": "text/x-python",
   "name": "python",
   "nbconvert_exporter": "python",
   "pygments_lexer": "ipython3",
   "version": "3.7.6"
  }
 },
>>>>>>> Stashed changes
 "nbformat": 4,
 "nbformat_minor": 2
}
