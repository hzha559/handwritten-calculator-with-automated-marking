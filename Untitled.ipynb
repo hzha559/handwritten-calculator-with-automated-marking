{
 "cells": [
  {
   "cell_type": "code",
   "execution_count": 1,
   "metadata": {
    "scrolled": true
   },
   "outputs": [
    {
     "name": "stderr",
     "output_type": "stream",
     "text": [
      "[INFO   ] [Logger      ] Record log in C:\\Users\\zhaoh\\.kivy\\logs\\kivy_20-03-05_46.txt\n",
      "[INFO   ] [Kivy        ] v1.11.1\n",
      "[INFO   ] [Kivy        ] Installed at \"C:\\Users\\zhaoh\\Anaconda3\\lib\\site-packages\\kivy\\__init__.py\"\n",
      "[INFO   ] [Python      ] v3.7.3 (default, Mar 27 2019, 17:13:21) [MSC v.1915 64 bit (AMD64)]\n",
      "[INFO   ] [Python      ] Interpreter at \"C:\\Users\\zhaoh\\Anaconda3\\python.exe\"\n",
      "[INFO   ] [Factory     ] 184 symbols loaded\n",
      "[INFO   ] [Image       ] Providers: img_tex, img_dds, img_sdl2, img_pil, img_gif (img_ffpyplayer ignored)\n",
      "[INFO   ] [Text        ] Provider: sdl2\n",
      "[INFO   ] [Window      ] Provider: sdl2\n",
      "[INFO   ] [GL          ] Using the \"OpenGL\" graphics system\n",
      "[INFO   ] [GL          ] GLEW initialization succeeded\n",
      "[INFO   ] [GL          ] Backend used <glew>\n",
      "[INFO   ] [GL          ] OpenGL version <b'4.6.0 - Build 26.20.100.7323'>\n",
      "[INFO   ] [GL          ] OpenGL vendor <b'Intel'>\n",
      "[INFO   ] [GL          ] OpenGL renderer <b'Intel(R) UHD Graphics 630'>\n",
      "[INFO   ] [GL          ] OpenGL parsed version: 4, 6\n",
      "[INFO   ] [GL          ] Shading version <b'4.60 - Build 26.20.100.7323'>\n",
      "[INFO   ] [GL          ] Texture max size <16384>\n",
      "[INFO   ] [GL          ] Texture max units <32>\n",
      "[INFO   ] [Window      ] auto add sdl2 input provider\n",
      "[INFO   ] [Window      ] virtual keyboard not allowed, single mode, not docked\n",
      "[INFO   ] [GL          ] NPOT texture support is available\n",
      "[INFO   ] [GL          ] BGRA texture support is available\n",
      "[INFO   ] [Base        ] Start application main loop\n"
     ]
    },
    {
     "name": "stdout",
     "output_type": "stream",
     "text": [
      "My keyboard have been closed!\n",
      "[18, '']\n"
     ]
    },
    {
     "name": "stderr",
     "output_type": "stream",
     "text": [
      "[INFO   ] [Base        ] Leaving application in progress...\n"
     ]
    },
    {
     "ename": "SyntaxError",
     "evalue": "invalid syntax (<string>, line 1)",
     "output_type": "error",
     "traceback": [
      "Traceback \u001b[1;36m(most recent call last)\u001b[0m:\n",
      "  File \u001b[0;32m\"C:\\Users\\zhaoh\\Anaconda3\\lib\\site-packages\\IPython\\core\\interactiveshell.py\"\u001b[0m, line \u001b[0;32m3326\u001b[0m, in \u001b[0;35mrun_code\u001b[0m\n    exec(code_obj, self.user_global_ns, self.user_ns)\n",
      "  File \u001b[0;32m\"<ipython-input-1-156eb3f2ac8e>\"\u001b[0m, line \u001b[0;32m1\u001b[0m, in \u001b[0;35m<module>\u001b[0m\n    import FungalAnnotator.py\n",
      "  File \u001b[0;32m\"C:\\Users\\zhaoh\\Downloads\\FYP\\UI\\master\\FungalAnnotator.py\"\u001b[0m, line \u001b[0;32m247\u001b[0m, in \u001b[0;35m<module>\u001b[0m\n    RadiologistGUI()\n",
      "  File \u001b[0;32m\"C:\\Users\\zhaoh\\Downloads\\FYP\\UI\\master\\FungalAnnotator.py\"\u001b[0m, line \u001b[0;32m22\u001b[0m, in \u001b[0;35m__init__\u001b[0m\n    self.root.run()\n",
      "  File \u001b[0;32m\"C:\\Users\\zhaoh\\Anaconda3\\lib\\site-packages\\kivy\\app.py\"\u001b[0m, line \u001b[0;32m855\u001b[0m, in \u001b[0;35mrun\u001b[0m\n    runTouchApp()\n",
      "  File \u001b[0;32m\"C:\\Users\\zhaoh\\Anaconda3\\lib\\site-packages\\kivy\\base.py\"\u001b[0m, line \u001b[0;32m504\u001b[0m, in \u001b[0;35mrunTouchApp\u001b[0m\n    EventLoop.window.mainloop()\n",
      "  File \u001b[0;32m\"C:\\Users\\zhaoh\\Anaconda3\\lib\\site-packages\\kivy\\core\\window\\window_sdl2.py\"\u001b[0m, line \u001b[0;32m747\u001b[0m, in \u001b[0;35mmainloop\u001b[0m\n    self._mainloop()\n",
      "  File \u001b[0;32m\"C:\\Users\\zhaoh\\Anaconda3\\lib\\site-packages\\kivy\\core\\window\\window_sdl2.py\"\u001b[0m, line \u001b[0;32m479\u001b[0m, in \u001b[0;35m_mainloop\u001b[0m\n    EventLoop.idle()\n",
      "  File \u001b[0;32m\"C:\\Users\\zhaoh\\Anaconda3\\lib\\site-packages\\kivy\\base.py\"\u001b[0m, line \u001b[0;32m342\u001b[0m, in \u001b[0;35midle\u001b[0m\n    self.dispatch_input()\n",
      "  File \u001b[0;32m\"C:\\Users\\zhaoh\\Anaconda3\\lib\\site-packages\\kivy\\base.py\"\u001b[0m, line \u001b[0;32m327\u001b[0m, in \u001b[0;35mdispatch_input\u001b[0m\n    post_dispatch_input(*pop(0))\n",
      "  File \u001b[0;32m\"C:\\Users\\zhaoh\\Anaconda3\\lib\\site-packages\\kivy\\base.py\"\u001b[0m, line \u001b[0;32m293\u001b[0m, in \u001b[0;35mpost_dispatch_input\u001b[0m\n    wid.dispatch('on_touch_up', me)\n",
      "  File \u001b[0;32m\"kivy\\_event.pyx\"\u001b[0m, line \u001b[0;32m707\u001b[0m, in \u001b[0;35mkivy._event.EventDispatcher.dispatch\u001b[0m\n",
      "  File \u001b[0;32m\"C:\\Users\\zhaoh\\Anaconda3\\lib\\site-packages\\kivy\\uix\\behaviors\\button.py\"\u001b[0m, line \u001b[0;32m179\u001b[0m, in \u001b[0;35mon_touch_up\u001b[0m\n    self.dispatch('on_release')\n",
      "  File \u001b[0;32m\"kivy\\_event.pyx\"\u001b[0m, line \u001b[0;32m703\u001b[0m, in \u001b[0;35mkivy._event.EventDispatcher.dispatch\u001b[0m\n",
      "  File \u001b[0;32m\"kivy\\_event.pyx\"\u001b[0m, line \u001b[0;32m1214\u001b[0m, in \u001b[0;35mkivy._event.EventObservers.dispatch\u001b[0m\n",
      "  File \u001b[0;32m\"kivy\\_event.pyx\"\u001b[0m, line \u001b[0;32m1138\u001b[0m, in \u001b[0;35mkivy._event.EventObservers._dispatch\u001b[0m\n",
      "\u001b[1;36m  File \u001b[1;32m\"C:\\Users\\zhaoh\\Downloads\\FYP\\UI\\master\\UIEvents.py\"\u001b[1;36m, line \u001b[1;32m131\u001b[1;36m, in \u001b[1;35mCalculate\u001b[1;36m\u001b[0m\n\u001b[1;33m    if eval(string[position+1:])>0:\u001b[0m\n",
      "\u001b[1;36m  File \u001b[1;32m\"<string>\"\u001b[1;36m, line \u001b[1;32m1\u001b[0m\n\u001b[1;33m    =17\u001b[0m\n\u001b[1;37m    ^\u001b[0m\n\u001b[1;31mSyntaxError\u001b[0m\u001b[1;31m:\u001b[0m invalid syntax\n"
     ]
    }
   ],
   "source": [
    "import FungalAnnotator.py"
   ]
  },
  {
   "cell_type": "code",
   "execution_count": null,
   "metadata": {},
   "outputs": [],
   "source": [
    "import numpy\n",
    "def calculator(string):\n",
    "    list=[]\n",
    "    if '=' not in string:\n",
    "        return eval(string)\n",
    "    else:\n",
    "        position=string.index('=')\n",
    "        if numpy.round(eval(string[0:position]),decimals=1)==(eval(string[position+1:])) :\n",
    "            list.append(eval(string[0:position]))\n",
    "            list.append(True)\n",
    "            return list\n",
    "        else:\n",
    "            list.append(eval(string[0:position]))\n",
    "            list.append(False)\n",
    "            return list\n",
    "    "
   ]
  },
  {
   "cell_type": "code",
   "execution_count": null,
   "metadata": {},
   "outputs": [],
   "source": [
    "calculator('3/4=0.7')"
   ]
  },
  {
   "cell_type": "code",
   "execution_count": null,
   "metadata": {},
   "outputs": [],
   "source": [
    "eval('22')"
   ]
  },
  {
   "cell_type": "code",
   "execution_count": null,
   "metadata": {},
   "outputs": [],
   "source": []
  }
 ],
 "metadata": {
  "kernelspec": {
   "display_name": "Python 3",
   "language": "python",
   "name": "python3"
  },
  "language_info": {
   "codemirror_mode": {
    "name": "ipython",
    "version": 3
   },
   "file_extension": ".py",
   "mimetype": "text/x-python",
   "name": "python",
   "nbconvert_exporter": "python",
   "pygments_lexer": "ipython3",
   "version": "3.7.3"
  }
 },
 "nbformat": 4,
 "nbformat_minor": 2
}
