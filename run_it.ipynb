{
 "cells": [
  {
   "cell_type": "markdown",
   "metadata": {},
   "source": [
    "# run it using Jupyter Notebook"
   ]
  },
  {
   "cell_type": "code",
   "execution_count": null,
   "metadata": {},
   "outputs": [
    {
     "name": "stderr",
     "output_type": "stream",
     "text": [
<<<<<<< Updated upstream
      "[INFO   ] [Logger      ] Record log in C:\\Users\\zhaoh\\.kivy\\logs\\kivy_20-05-23_2.txt\n",
      "[INFO   ] [Kivy        ] v1.11.1\n",
      "[INFO   ] [Kivy        ] Installed at \"C:\\ProgramData\\Anaconda3\\lib\\site-packages\\kivy\\__init__.py\"\n",
      "[INFO   ] [Python      ] v3.7.6 (default, Jan  8 2020, 20:23:39) [MSC v.1916 64 bit (AMD64)]\n",
      "[INFO   ] [Python      ] Interpreter at \"C:\\ProgramData\\Anaconda3\\python.exe\"\n",
=======
      "[INFO   ] [Logger      ] Record log in C:\\Users\\zhaoh\\.kivy\\logs\\kivy_20-05-21_1.txt\n",
      "[INFO   ] [Kivy        ] v1.11.1\n",
      "[INFO   ] [Kivy        ] Installed at \"C:\\Users\\zhaoh\\Anaconda3\\lib\\site-packages\\kivy\\__init__.py\"\n",
      "[INFO   ] [Python      ] v3.7.3 (default, Mar 27 2019, 17:13:21) [MSC v.1915 64 bit (AMD64)]\n",
      "[INFO   ] [Python      ] Interpreter at \"C:\\Users\\zhaoh\\Anaconda3\\python.exe\"\n",
>>>>>>> Stashed changes
      "[INFO   ] [Factory     ] 184 symbols loaded\n",
      "[INFO   ] [Image       ] Providers: img_tex, img_dds, img_sdl2, img_pil, img_gif (img_ffpyplayer ignored)\n",
      "[INFO   ] [Text        ] Provider: sdl2\n",
      "[INFO   ] [Window      ] Provider: sdl2\n",
      "[INFO   ] [GL          ] Using the \"OpenGL\" graphics system\n",
      "[INFO   ] [GL          ] GLEW initialization succeeded\n",
      "[INFO   ] [GL          ] Backend used <glew>\n",
<<<<<<< Updated upstream
      "[INFO   ] [GL          ] OpenGL version <b'4.3.0 - Build 20.19.15.4568'>\n",
      "[INFO   ] [GL          ] OpenGL vendor <b'Intel'>\n",
      "[INFO   ] [GL          ] OpenGL renderer <b'Intel(R) HD Graphics 5000'>\n",
      "[INFO   ] [GL          ] OpenGL parsed version: 4, 3\n",
      "[INFO   ] [GL          ] Shading version <b'4.30 - Build 20.19.15.4568'>\n",
=======
      "[INFO   ] [GL          ] OpenGL version <b'4.6.0 - Build 26.20.100.7323'>\n",
      "[INFO   ] [GL          ] OpenGL vendor <b'Intel'>\n",
      "[INFO   ] [GL          ] OpenGL renderer <b'Intel(R) UHD Graphics 630'>\n",
      "[INFO   ] [GL          ] OpenGL parsed version: 4, 6\n",
      "[INFO   ] [GL          ] Shading version <b'4.60 - Build 26.20.100.7323'>\n",
>>>>>>> Stashed changes
      "[INFO   ] [GL          ] Texture max size <16384>\n",
      "[INFO   ] [GL          ] Texture max units <32>\n",
      "[INFO   ] [Window      ] auto add sdl2 input provider\n",
      "[INFO   ] [Window      ] virtual keyboard not allowed, single mode, not docked\n"
     ]
    },
    {
<<<<<<< Updated upstream
     "name": "stdout",
     "output_type": "stream",
     "text": [
      "initializing services\n"
     ]
    },
    {
     "name": "stderr",
     "output_type": "stream",
     "text": [
      "[INFO   ] [GL          ] NPOT texture support is available\n",
      "[INFO   ] [GL          ] BGRA texture support is available\n",
      "[INFO   ] [Base        ] Start application main loop\n"
     ]
    },
    {
     "name": "stdout",
     "output_type": "stream",
     "text": [
      "recognized 3\n",
      "recognized 3*\n",
      "recognized 3*6\n",
      "recognized 3*4\n",
      "recognized 3*4-\n",
      "recognized 3*4=\n",
      "recognized 3*4=0\n",
      "recognized 3*4=0.\n",
      "recognized 3*4=0.7\n",
      "3*4=0.7\n",
      "recognized 3\n",
      "recognized 3.\n",
      "recognized 3/\n",
      "recognized 3/\n",
      "recognized 3/4\n",
      "recognized 3/4\n",
      "recognized 3/4-\n",
      "recognized 3/4=\n",
      "recognized 3/4=0\n",
      "recognized 3/4=0.\n",
      "recognized 3/4=0.7\n",
      "3/4=0.7\n",
      "recognized 3/4=0.73\n",
      "recognized 3/4=0.75\n",
      "3/4=0.75\n",
      "recognized 1\n",
      "recognized 12\n",
      "recognized 123\n",
      "recognized 123-\n",
      "recognized 123+\n",
      "recognized 123+9\n",
      "recognized 123+93\n",
      "recognized 123+93\n",
      "recognized 123+95\n",
      "123+95\n",
      "recognized 123+95\n",
      "recognized 123+95\n",
      "recognized 123+95\n",
      "recognized 123+9.\n",
      "recognized 123+96\n",
      "recognized 123+96\n",
      "123+96\n",
      "recognized 123+96-\n",
      "recognized 123+96*\n",
      "recognized 123+96*3\n",
      "recognized 123+96*32\n",
      "recognized 123+96*321\n",
      "recognized 123+96*321\n",
      "recognized 123+96*324\n",
      "recognized 123+96*324-\n",
      "recognized 123+96*324-\n",
      "recognized 123+96*324+\n",
      "recognized 123+96*3247\n",
      "recognized 123+96*324=\n",
      "recognized 123+96*324.\n",
      "recognized 123+96*324.\n",
      "recognized 123+96*324\n",
      "recognized 123+96*324-\n",
      "recognized 123+96*324+\n",
      "recognized 123+96*324+2\n",
      "recognized 123+96*324+21\n",
      "recognized 123+96*324+21\n",
      "recognized 123+96*324+21.\n",
      "recognized 123+96*324+21.2\n",
      "123+96*324+21.2\n",
      "recognized 2\n",
      "recognized 2.\n",
      "recognized 2.3\n",
      "recognized 2.5\n",
      "recognized 2.51\n",
      "recognized 2.51-\n",
      "recognized 2.51+\n",
      "recognized 2.51+3\n",
      "recognized 2.51+3-\n",
      "recognized 2.51+3+\n",
      "recognized 2.51+3+-\n",
      "2.51+3+-\n",
      "recognized 2.51+3+-\n",
      "recognized 2.51+3.-\n",
      "recognized 2.51+3-\n",
      "recognized 2.51+3-\n",
      "recognized 2.51+3-\n",
      "recognized 2.51+3\n",
      "recognized 2.51+.\n",
      "recognized 2.51+\n",
      "recognized 2.51.\n",
      "recognized 2.51/\n",
      "recognized 2.51/\n",
      "recognized 2.51/0\n",
      "2.51/0\n",
      "\n",
      "recognized 1\n",
      "recognized 1-\n",
      "recognized 1+\n",
      "recognized 1+3\n",
      "recognized 1+3-\n",
      "recognized 1+3+\n",
      "recognized 1+3+1\n",
      "recognized 1+3+1-\n",
      "recognized 1+3+1=\n",
      "recognized 1+3+1=1\n",
      "recognized 1+3+1=10\n",
      "1+3+9=10\n",
      "recognized 1\n",
      "recognized 1-\n",
      "recognized 1+\n",
      "recognized 1+3\n",
      "recognized 1+3\n",
      "recognized 1+3-\n",
      "recognized 1+3+\n",
      "recognized 1+3+1\n",
      "recognized 1+3+1-\n",
      "recognized 1+3+1=\n",
      "recognized 1+3+1=1\n",
      "recognized 1+3+1=14\n",
      "recognized 1+3+1=14\n",
      "1+3+9=14\n",
      "1+3+9=13\n"
=======
     "name": "stdout",
     "output_type": "stream",
     "text": [
      "initializing services\n"
     ]
    },
    {
     "name": "stderr",
     "output_type": "stream",
     "text": [
      "[INFO   ] [GL          ] NPOT texture support is available\n",
      "[INFO   ] [GL          ] BGRA texture support is available\n",
      "[INFO   ] [Base        ] Start application main loop\n"
     ]
    },
    {
     "name": "stdout",
     "output_type": "stream",
     "text": [
      "recognized 3\n",
      "recognized 3-\n",
      "recognized 3-2\n",
      "3-2\n"
>>>>>>> Stashed changes
     ]
    }
   ],
   "source": [
    "import theGUI.py"
   ]
  },
  {
   "cell_type": "code",
   "execution_count": null,
   "metadata": {},
   "outputs": [],
   "source": []
  }
 ],
 "metadata": {
  "kernelspec": {
   "display_name": "Python 3",
   "language": "python",
   "name": "python3"
  },
  "language_info": {
   "codemirror_mode": {
    "name": "ipython",
    "version": 3
   },
   "file_extension": ".py",
   "mimetype": "text/x-python",
   "name": "python",
   "nbconvert_exporter": "python",
   "pygments_lexer": "ipython3",
   "version": "3.7.6"
  }
 },
 "nbformat": 4,
 "nbformat_minor": 2
}
