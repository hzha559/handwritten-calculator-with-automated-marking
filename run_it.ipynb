{
 "cells": [
  {
   "cell_type": "markdown",
   "metadata": {},
   "source": [
    "# run it using Jupyter Notebook"
   ]
  },
  {
   "cell_type": "code",
   "execution_count": null,
   "metadata": {},
   "outputs": [
    {
     "name": "stdout",
     "output_type": "stream",
     "text": [
      "initializing services\n",
      "recognized 2\n",
      "3\n",
      "3\n",
      "3\n",
      "3\n",
      "3\n",
      "recognized 2\n",
      "2\n",
      "55676876\n",
      "55676876hfjhgjhg\n",
      "556768756777777\n",
      "556768756777777678888888888888888888888888888888888\n",
      "recognized 2\n",
      "recognized 29\n",
      "recognized 29\n",
      "recognized 297\n",
      "recognized 2977\n",
      "recognized 2977\n",
      "recognized 29772\n",
      "recognized 29772\n",
      "recognized 297723\n",
      "recognized 297723\n",
      "recognized 2977-3\n",
      "recognized 29773\n",
      "recognized 29773\n",
      "29773^5\n",
      "29773^5\n",
      "29773^5\n",
      "3-1\n",
      "3^2\n",
      "3^2\n"
     ]
    }
   ],
   "source": [
    "import theGUI.py"
   ]
  },
  {
   "cell_type": "code",
   "execution_count": null,
   "metadata": {},
   "outputs": [],
   "source": []
  }
 ],
 "metadata": {
  "kernelspec": {
   "display_name": "Python 3",
   "language": "python",
   "name": "python3"
  },
  "language_info": {
   "codemirror_mode": {
    "name": "ipython",
    "version": 3
   },
   "file_extension": ".py",
   "mimetype": "text/x-python",
   "name": "python",
   "nbconvert_exporter": "python",
   "pygments_lexer": "ipython3",
   "version": "3.7.3"
  }
 },
 "nbformat": 4,
 "nbformat_minor": 2
}
